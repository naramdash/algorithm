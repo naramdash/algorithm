{
 "metadata": {
  "kernelspec": {
   "display_name": ".NET (F#)",
   "language": "F#",
   "name": ".net-fsharp"
  },
  "language_info": {
   "name": "F#"
  }
 },
 "cells": [
  {
   "cell_type": "code",
   "execution_count": null,
   "source": [
    "let a = 456\r\n",
    "\r\n",
    "let middleResults = \r\n",
    "    \"123\" \r\n",
    "    |> Seq.rev \r\n",
    "    |> Seq.map2 (fun i n -> \r\n",
    "        n |> string |> int |> (fun n -> i, n * a))\r\n",
    "    // |> Seq.map2 (string >> int >> (fun i -> a * i)) (Seq.initInfinite id)\r\n",
    "\r\n",
    "// |> Seq.map (String.split >> int)\r\n",
    "// |> Seq.map (int >> (fun i -> i))"
   ],
   "outputs": [
    {
     "output_type": "error",
     "ename": "Error",
     "evalue": "input.fsx (3,5)-(3,18) typecheck error 값 제한이 있습니다. 값 'middleResults'은(는) 제네릭 형식\n    val middleResults : (seq<obj> -> seq<char * int>)을(를) 가지는 것으로 유추되었습니다.    \n'middleResults'에 대한 인수를 명시적으로 만들거나, 제네릭 요소로 만들지 않으려는 경우 형식 주석을 추가하세요.",
     "traceback": [
      "input.fsx (3,5)-(3,18) typecheck error 값 제한이 있습니다. 값 'middleResults'은(는) 제네릭 형식\n",
      "    val middleResults : (seq<obj> -> seq<char * int>)을(를) 가지는 것으로 유추되었습니다.    \n",
      "'middleResults'에 대한 인수를 명시적으로 만들거나, 제네릭 요소로 만들지 않으려는 경우 형식 주석을 추가하세요."
     ]
    }
   ],
   "metadata": {
    "dotnet_interactive": {
     "language": "fsharp"
    }
   }
  },
  {
   "cell_type": "code",
   "execution_count": null,
   "source": [
    "Seq.initInfinite id |> Seq.take 5"
   ],
   "outputs": [
    {
     "output_type": "display_data",
     "data": {
      "text/html": [
       "<table><thead><tr><th><i>index</i></th><th>value</th></tr></thead><tbody><tr><td>0</td><td><div class=\"dni-plaintext\">0</div></td></tr><tr><td>1</td><td><div class=\"dni-plaintext\">1</div></td></tr><tr><td>2</td><td><div class=\"dni-plaintext\">2</div></td></tr><tr><td>3</td><td><div class=\"dni-plaintext\">3</div></td></tr><tr><td>4</td><td><div class=\"dni-plaintext\">4</div></td></tr></tbody></table>"
      ]
     },
     "metadata": {}
    }
   ],
   "metadata": {
    "dotnet_interactive": {
     "language": "fsharp"
    }
   }
  },
  {
   "cell_type": "code",
   "execution_count": null,
   "source": [],
   "outputs": [],
   "metadata": {
    "dotnet_interactive": {
     "language": "fsharp"
    }
   }
  }
 ],
 "nbformat": 4,
 "nbformat_minor": 2
}