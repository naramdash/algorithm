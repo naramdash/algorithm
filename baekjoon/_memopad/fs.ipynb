{
 "metadata": {
  "kernelspec": {
   "display_name": ".NET (F#)",
   "language": "F#",
   "name": ".net-fsharp"
  },
  "language_info": {
   "name": "F#"
  }
 },
 "cells": [
  {
   "cell_type": "code",
   "execution_count": null,
   "source": [
    "open System\r\n",
    "open System.IO\r\n",
    "\r\n",
    "let isGroupWord (word: string) = \r\n",
    "    word\r\n",
    "    |> Seq.pairwise\r\n",
    "    |> Seq.filter (fun (a,b ) -> a <> b)\r\n",
    "    |> Seq.countBy (fun (a,_) -> a)\r\n",
    "    |> Map.ofSeq\r\n",
    "    |> (fun map -> \r\n",
    "            if map |> Map.containsKey (word |> Seq.last) then\r\n",
    "                false\r\n",
    "            elif map |> Map.exists (fun key value -> value > 1) then\r\n",
    "                false\r\n",
    "            else \r\n",
    "                true)\r\n",
    "\r\n",
    "// CEREMONY CODES\r\n",
    "[<EntryPoint>]\r\n",
    "let main argv = \r\n",
    "    use sr = new StreamReader(Console.OpenStandardInput())\r\n",
    "    use sw = new StreamWriter(Console.OpenStandardOutput())\r\n",
    "\r\n",
    "    // INPUT\r\n",
    "    let lineCount = sr.ReadLine() |> int\r\n",
    "    let lines = List.init lineCount (fun _ -> sr.ReadLine())\r\n",
    "\r\n",
    "    // PROCESSING\r\n",
    "    let answer = lines |> List.map isGroupWord |> List.filter id |> List.length\r\n",
    "\r\n",
    "    // PRINT\r\n",
    "    sw.WriteLine answer\r\n",
    "\r\n",
    "    0"
   ],
   "outputs": [],
   "metadata": {
    "dotnet_interactive": {
     "language": "fsharp"
    }
   }
  },
  {
   "cell_type": "code",
   "execution_count": null,
   "source": [
    "isGroupWord \"jjajj\""
   ],
   "outputs": [
    {
     "data": {
      "text/html": [
       "<div class=\"dni-plaintext\">False</div>"
      ]
     },
     "metadata": {},
     "output_type": "display_data"
    }
   ],
   "metadata": {
    "dotnet_interactive": {
     "language": "fsharp"
    }
   }
  },
  {
   "cell_type": "code",
   "execution_count": null,
   "source": [],
   "outputs": [],
   "metadata": {
    "dotnet_interactive": {
     "language": "fsharp"
    }
   }
  }
 ],
 "nbformat": 4,
 "nbformat_minor": 2
}